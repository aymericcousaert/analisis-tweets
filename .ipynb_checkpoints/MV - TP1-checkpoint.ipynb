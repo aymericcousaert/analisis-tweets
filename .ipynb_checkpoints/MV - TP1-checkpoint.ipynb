{
 "cells": [
  {
   "cell_type": "markdown",
   "metadata": {},
   "source": [
    "## 75.06/95.58 Organización de Datos -  Primer Cuatrimestre de 2020  \n",
    "\n",
    "## Trabajo Práctico 1\n"
   ]
  },
  {
   "cell_type": "code",
   "execution_count": 1,
   "metadata": {},
   "outputs": [],
   "source": [
    "import pandas as pd\n",
    "import numpy as np\n",
    "import matplotlib.pyplot as plt\n",
    "import seaborn as sns\n",
    "\n",
    "%matplotlib inline\n",
    "\n",
    "plt.style.use('seaborn-talk') # haciendo los graficos un poco mas bonitos en matplotlib\n",
    "plt.rcParams['figure.figsize'] = (5, 3)\n",
    "\n",
    "sns.set(style=\"whitegrid\") # seteando tipo de grid en seaborn\n",
    "\n",
    "pd.options.display.float_format = '{:20,.2f}'.format # suprimimos la notacion cientifica en los outputs\n",
    "pd.set_option('display.max_colwidth', 250)\n",
    "\n",
    "import warnings\n",
    "warnings.filterwarnings('ignore')"
   ]
  },
  {
   "cell_type": "markdown",
   "metadata": {},
   "source": [
    "### Objetivo TP 1\n",
    "\n",
    "El objetivo del primer TP es realizar un análisis exploratorio del set de datos. Queremos ver qué cosas podemos descubrir sobre los datos que puedan resultar interesantes. Estas cosas pueden estar relacionadas al objetivo del TP2 (predecir si un cierto tweet es real o no) o no, ambas son de interés."
   ]
  },
  {
   "cell_type": "markdown",
   "metadata": {},
   "source": [
    "* id - identificador unico para cada  tweet\n",
    "* text - el texto del tweet\n",
    "* location - ubicación desde donde fue enviado (podría no estar)\n",
    "* keyword - un keyword para el tweet  (podría faltar)\n",
    "* target - en train.csv, indica si se trata de un desastre real  (1) o no (0)\n"
   ]
  },
  {
   "cell_type": "code",
   "execution_count": 2,
   "metadata": {},
   "outputs": [],
   "source": [
    "df = pd.read_csv('train.csv', encoding='latin-1')\n",
    "# sin el encoding= 'latin-1'se veian caracteres raros en el texto "
   ]
  },
  {
   "cell_type": "code",
   "execution_count": 3,
   "metadata": {},
   "outputs": [
    {
     "data": {
      "text/html": [
       "<div>\n",
       "<style scoped>\n",
       "    .dataframe tbody tr th:only-of-type {\n",
       "        vertical-align: middle;\n",
       "    }\n",
       "\n",
       "    .dataframe tbody tr th {\n",
       "        vertical-align: top;\n",
       "    }\n",
       "\n",
       "    .dataframe thead th {\n",
       "        text-align: right;\n",
       "    }\n",
       "</style>\n",
       "<table border=\"1\" class=\"dataframe\">\n",
       "  <thead>\n",
       "    <tr style=\"text-align: right;\">\n",
       "      <th></th>\n",
       "      <th>id</th>\n",
       "      <th>keyword</th>\n",
       "      <th>location</th>\n",
       "      <th>text</th>\n",
       "      <th>target</th>\n",
       "    </tr>\n",
       "  </thead>\n",
       "  <tbody>\n",
       "    <tr>\n",
       "      <th>7293</th>\n",
       "      <td>10434</td>\n",
       "      <td>whirlwind</td>\n",
       "      <td>Bristol, England</td>\n",
       "      <td>WIN: Lisowski whitewashes the Whirlwind 5-0 in round 2 of Shanghai Masters Quals! |  http://t.co/MLigPUHVOh #snooker http://t.co/TcS2Cd5y6y</td>\n",
       "      <td>1</td>\n",
       "    </tr>\n",
       "    <tr>\n",
       "      <th>4539</th>\n",
       "      <td>6453</td>\n",
       "      <td>injured</td>\n",
       "      <td>Worldwide</td>\n",
       "      <td>Top Stories - Google 4 dead dozens injured in Gaza blast near house leveled in summer warÂÃ_ http://t.co/P3o71DZ992</td>\n",
       "      <td>1</td>\n",
       "    </tr>\n",
       "    <tr>\n",
       "      <th>5097</th>\n",
       "      <td>7270</td>\n",
       "      <td>nuclear%20disaster</td>\n",
       "      <td>NaN</td>\n",
       "      <td>#Japan #Fukushima the most serious man made disaster in human history...  ÂÃÃa marker of radiation brain damageÂÃÂ http://t.co/Y3ZfqJsvpz</td>\n",
       "      <td>1</td>\n",
       "    </tr>\n",
       "    <tr>\n",
       "      <th>667</th>\n",
       "      <td>962</td>\n",
       "      <td>blaze</td>\n",
       "      <td>ARIZONA</td>\n",
       "      <td>@DJJOHNBLazE shout out blaze the hottest DJ in the Sothwest</td>\n",
       "      <td>0</td>\n",
       "    </tr>\n",
       "    <tr>\n",
       "      <th>6911</th>\n",
       "      <td>9910</td>\n",
       "      <td>trouble</td>\n",
       "      <td>Gold Coast, Australia</td>\n",
       "      <td>19 Things You'll Understand If You Have Trouble Talking to People http://t.co/sHaZNLMsFE</td>\n",
       "      <td>0</td>\n",
       "    </tr>\n",
       "  </tbody>\n",
       "</table>\n",
       "</div>"
      ],
      "text/plain": [
       "         id             keyword               location  \\\n",
       "7293  10434           whirlwind       Bristol, England   \n",
       "4539   6453             injured              Worldwide   \n",
       "5097   7270  nuclear%20disaster                    NaN   \n",
       "667     962               blaze                ARIZONA   \n",
       "6911   9910             trouble  Gold Coast, Australia   \n",
       "\n",
       "                                                                                                                                                 text  \\\n",
       "7293      WIN: Lisowski whitewashes the Whirlwind 5-0 in round 2 of Shanghai Masters Quals! |  http://t.co/MLigPUHVOh #snooker http://t.co/TcS2Cd5y6y   \n",
       "4539                            Top Stories - Google 4 dead dozens injured in Gaza blast near house leveled in summer warÂÃ_ http://t.co/P3o71DZ992   \n",
       "5097  #Japan #Fukushima the most serious man made disaster in human history...  ÂÃÃa marker of radiation brain damageÂÃÂ http://t.co/Y3ZfqJsvpz   \n",
       "667                                                                                       @DJJOHNBLazE shout out blaze the hottest DJ in the Sothwest   \n",
       "6911                                                         19 Things You'll Understand If You Have Trouble Talking to People http://t.co/sHaZNLMsFE   \n",
       "\n",
       "      target  \n",
       "7293       1  \n",
       "4539       1  \n",
       "5097       1  \n",
       "667        0  \n",
       "6911       0  "
      ]
     },
     "execution_count": 3,
     "metadata": {},
     "output_type": "execute_result"
    }
   ],
   "source": [
    "df.sample(5)"
   ]
  },
  {
   "cell_type": "code",
   "execution_count": 4,
   "metadata": {},
   "outputs": [
    {
     "name": "stdout",
     "output_type": "stream",
     "text": [
      "<class 'pandas.core.frame.DataFrame'>\n",
      "RangeIndex: 7613 entries, 0 to 7612\n",
      "Data columns (total 5 columns):\n",
      "id          7613 non-null int64\n",
      "keyword     7552 non-null object\n",
      "location    5080 non-null object\n",
      "text        7613 non-null object\n",
      "target      7613 non-null int64\n",
      "dtypes: int64(2), object(3)\n",
      "memory usage: 297.5+ KB\n"
     ]
    }
   ],
   "source": [
    "df.info()\n",
    "# 'location' tiene aprox 2500 valores nulos"
   ]
  },
  {
   "cell_type": "code",
   "execution_count": 5,
   "metadata": {},
   "outputs": [
    {
     "data": {
      "text/plain": [
       "0                   0.57\n",
       "1                   0.43\n",
       "Name: target, dtype: float64"
      ]
     },
     "execution_count": 5,
     "metadata": {},
     "output_type": "execute_result"
    }
   ],
   "source": [
    "df.target.value_counts(normalize= True)\n",
    "# Las clases estan balanceadas"
   ]
  },
  {
   "cell_type": "code",
   "execution_count": 6,
   "metadata": {},
   "outputs": [],
   "source": [
    "# eliminamos algunos caracteres del texto\n",
    "\n",
    "skips = ['.', ',',';',':','!','?', '\\n', '(', ')']\n",
    "for char in skips:\n",
    "    df['text'] = df.text.str.replace(char, '')"
   ]
  },
  {
   "cell_type": "code",
   "execution_count": 7,
   "metadata": {},
   "outputs": [
    {
     "data": {
      "text/html": [
       "<div>\n",
       "<style scoped>\n",
       "    .dataframe tbody tr th:only-of-type {\n",
       "        vertical-align: middle;\n",
       "    }\n",
       "\n",
       "    .dataframe tbody tr th {\n",
       "        vertical-align: top;\n",
       "    }\n",
       "\n",
       "    .dataframe thead th {\n",
       "        text-align: right;\n",
       "    }\n",
       "</style>\n",
       "<table border=\"1\" class=\"dataframe\">\n",
       "  <thead>\n",
       "    <tr style=\"text-align: right;\">\n",
       "      <th></th>\n",
       "      <th>id</th>\n",
       "      <th>keyword</th>\n",
       "      <th>location</th>\n",
       "      <th>text</th>\n",
       "      <th>target</th>\n",
       "      <th>text_length</th>\n",
       "    </tr>\n",
       "  </thead>\n",
       "  <tbody>\n",
       "    <tr>\n",
       "      <th>0</th>\n",
       "      <td>1</td>\n",
       "      <td>NaN</td>\n",
       "      <td>NaN</td>\n",
       "      <td>Our Deeds are the Reason of this #earthquake May ALLAH Forgive us all</td>\n",
       "      <td>1</td>\n",
       "      <td>69</td>\n",
       "    </tr>\n",
       "    <tr>\n",
       "      <th>1</th>\n",
       "      <td>4</td>\n",
       "      <td>NaN</td>\n",
       "      <td>NaN</td>\n",
       "      <td>Forest fire near La Ronge Sask Canada</td>\n",
       "      <td>1</td>\n",
       "      <td>37</td>\n",
       "    </tr>\n",
       "    <tr>\n",
       "      <th>2</th>\n",
       "      <td>5</td>\n",
       "      <td>NaN</td>\n",
       "      <td>NaN</td>\n",
       "      <td>All residents asked to 'shelter in place' are being notified by officers No other evacuation or shelter in place orders are expected</td>\n",
       "      <td>1</td>\n",
       "      <td>132</td>\n",
       "    </tr>\n",
       "    <tr>\n",
       "      <th>3</th>\n",
       "      <td>6</td>\n",
       "      <td>NaN</td>\n",
       "      <td>NaN</td>\n",
       "      <td>13000 people receive #wildfires evacuation orders in California</td>\n",
       "      <td>1</td>\n",
       "      <td>64</td>\n",
       "    </tr>\n",
       "    <tr>\n",
       "      <th>4</th>\n",
       "      <td>7</td>\n",
       "      <td>NaN</td>\n",
       "      <td>NaN</td>\n",
       "      <td>Just got sent this photo from Ruby #Alaska as smoke from #wildfires pours into a school</td>\n",
       "      <td>1</td>\n",
       "      <td>88</td>\n",
       "    </tr>\n",
       "  </tbody>\n",
       "</table>\n",
       "</div>"
      ],
      "text/plain": [
       "   id keyword location  \\\n",
       "0   1     NaN      NaN   \n",
       "1   4     NaN      NaN   \n",
       "2   5     NaN      NaN   \n",
       "3   6     NaN      NaN   \n",
       "4   7     NaN      NaN   \n",
       "\n",
       "                                                                                                                                   text  \\\n",
       "0                                                                 Our Deeds are the Reason of this #earthquake May ALLAH Forgive us all   \n",
       "1                                                                                                 Forest fire near La Ronge Sask Canada   \n",
       "2  All residents asked to 'shelter in place' are being notified by officers No other evacuation or shelter in place orders are expected   \n",
       "3                                                                      13000 people receive #wildfires evacuation orders in California    \n",
       "4                                              Just got sent this photo from Ruby #Alaska as smoke from #wildfires pours into a school    \n",
       "\n",
       "   target  text_length  \n",
       "0       1           69  \n",
       "1       1           37  \n",
       "2       1          132  \n",
       "3       1           64  \n",
       "4       1           88  "
      ]
     },
     "execution_count": 7,
     "metadata": {},
     "output_type": "execute_result"
    }
   ],
   "source": [
    "df['text_length'] = df.text.str.len()\n",
    "df.head()"
   ]
  },
  {
   "cell_type": "code",
   "execution_count": 8,
   "metadata": {},
   "outputs": [
    {
     "data": {
      "image/png": "[encoded data removed]",
      "text/plain": [
       "<Figure size 360x216 with 1 Axes>"
      ]
     },
     "metadata": {},
     "output_type": "display_data"
    }
   ],
   "source": [
    "\n",
    "g0 = df.text_length[df['target']== 0].plot.hist(bins=50, color='r', label='target 0')\n",
    "g1 = df.text_length[df['target']== 1].plot.hist(bins=50, color= 'g', label='target 1', alpha= 0.5)\n",
    "plt.legend()\n",
    "plt.xlabel('Longitud del texto', fontsize=12)\n",
    "plt.title('Distribucion de la longitud del tweet segun el target ', fontsize=16);"
   ]
  },
  {
   "cell_type": "code",
   "execution_count": 9,
   "metadata": {},
   "outputs": [
    {
     "data": {
      "image/png": "[encoded data removed]",
      "text/plain": [
       "<Figure size 360x216 with 1 Axes>"
      ]
     },
     "metadata": {},
     "output_type": "display_data"
    }
   ],
   "source": [
    "g1 = sns.distplot(df.text_length[df['target']== 0], hist=False, color='r', label='target 0')\n",
    "g1 = sns.distplot(df.text_length[df['target']== 1], hist=False, color='g', label='target 1')\n",
    "plt.title('Funcion de distribucion de la longitud del tweet segun el target ', fontsize=16);"
   ]
  },
  {
   "cell_type": "code",
   "execution_count": 10,
   "metadata": {},
   "outputs": [
    {
     "data": {
      "image/png": "[encoded data removed]",
      "text/plain": [
       "<Figure size 360x216 with 1 Axes>"
      ]
     },
     "metadata": {},
     "output_type": "display_data"
    }
   ],
   "source": [
    "g = sns.boxplot(y=\"target\", x=\"text_length\", data=df, palette=\"hls\", orient='h' )\n",
    "g.set_title(\"Boxplot de la longitud del tweet\", fontsize=18)\n",
    "g.set_ylabel(\"Target\", fontsize=12)\n",
    "g.set_xlabel(\"Longitud del texto\", fontsize=12);"
   ]
  },
  {
   "cell_type": "code",
   "execution_count": 11,
   "metadata": {},
   "outputs": [
    {
     "data": {
      "text/html": [
       "<div>\n",
       "<style scoped>\n",
       "    .dataframe tbody tr th:only-of-type {\n",
       "        vertical-align: middle;\n",
       "    }\n",
       "\n",
       "    .dataframe tbody tr th {\n",
       "        vertical-align: top;\n",
       "    }\n",
       "\n",
       "    .dataframe thead th {\n",
       "        text-align: right;\n",
       "    }\n",
       "</style>\n",
       "<table border=\"1\" class=\"dataframe\">\n",
       "  <thead>\n",
       "    <tr style=\"text-align: right;\">\n",
       "      <th></th>\n",
       "      <th>text_length</th>\n",
       "      <th>target_0</th>\n",
       "      <th>target_1</th>\n",
       "    </tr>\n",
       "  </thead>\n",
       "  <tbody>\n",
       "    <tr>\n",
       "      <th>count</th>\n",
       "      <td>7,613.00</td>\n",
       "      <td>4,342.00</td>\n",
       "      <td>3,271.00</td>\n",
       "    </tr>\n",
       "    <tr>\n",
       "      <th>mean</th>\n",
       "      <td>98.03</td>\n",
       "      <td>92.91</td>\n",
       "      <td>104.83</td>\n",
       "    </tr>\n",
       "    <tr>\n",
       "      <th>std</th>\n",
       "      <td>33.08</td>\n",
       "      <td>35.21</td>\n",
       "      <td>28.65</td>\n",
       "    </tr>\n",
       "    <tr>\n",
       "      <th>min</th>\n",
       "      <td>6.00</td>\n",
       "      <td>6.00</td>\n",
       "      <td>14.00</td>\n",
       "    </tr>\n",
       "    <tr>\n",
       "      <th>25%</th>\n",
       "      <td>75.00</td>\n",
       "      <td>66.00</td>\n",
       "      <td>85.00</td>\n",
       "    </tr>\n",
       "    <tr>\n",
       "      <th>50%</th>\n",
       "      <td>103.00</td>\n",
       "      <td>98.00</td>\n",
       "      <td>111.00</td>\n",
       "    </tr>\n",
       "    <tr>\n",
       "      <th>75%</th>\n",
       "      <td>129.00</td>\n",
       "      <td>126.00</td>\n",
       "      <td>130.00</td>\n",
       "    </tr>\n",
       "    <tr>\n",
       "      <th>max</th>\n",
       "      <td>159.00</td>\n",
       "      <td>159.00</td>\n",
       "      <td>158.00</td>\n",
       "    </tr>\n",
       "  </tbody>\n",
       "</table>\n",
       "</div>"
      ],
      "text/plain": [
       "               text_length             target_0             target_1\n",
       "count             7,613.00             4,342.00             3,271.00\n",
       "mean                 98.03                92.91               104.83\n",
       "std                  33.08                35.21                28.65\n",
       "min                   6.00                 6.00                14.00\n",
       "25%                  75.00                66.00                85.00\n",
       "50%                 103.00                98.00               111.00\n",
       "75%                 129.00               126.00               130.00\n",
       "max                 159.00               159.00               158.00"
      ]
     },
     "execution_count": 11,
     "metadata": {},
     "output_type": "execute_result"
    }
   ],
   "source": [
    "# creamos target_0 y target_1 para evaluar los estadisticos que muestra el boxplot\n",
    "df['target_0'] = df['text_length'][df['target'] == 0]\n",
    "df['target_1'] = df['text_length'][df['target'] == 1]\n",
    "df[['text_length', 'target_0', 'target_1']].describe()"
   ]
  },
  {
   "cell_type": "markdown",
   "metadata": {},
   "source": [
    "Del boxplot y el describe podemos observar que los textos clasificados como falsos (target == 0) tienen mayor variabilidad que los clasififacos como verdaderos. Para evaluar el origen de esta dispersion de datos podemos:  \n",
    "* Hacer un analisis de outliers\n",
    "* Hacer una limpieza del texto eliminando caracteres y contando las palabras en vez de la longitud del string\n"
   ]
  },
  {
   "cell_type": "code",
   "execution_count": 12,
   "metadata": {},
   "outputs": [],
   "source": [
    "def count_words(text):\n",
    "    '''\n",
    "    Funcion que toma un texto y devuelve la cantidad de palabras\n",
    "    '''\n",
    "    word_counts = len(text.split(' '))\n",
    "    return word_counts"
   ]
  },
  {
   "cell_type": "code",
   "execution_count": 13,
   "metadata": {
    "scrolled": true
   },
   "outputs": [
    {
     "data": {
      "text/html": [
       "<div>\n",
       "<style scoped>\n",
       "    .dataframe tbody tr th:only-of-type {\n",
       "        vertical-align: middle;\n",
       "    }\n",
       "\n",
       "    .dataframe tbody tr th {\n",
       "        vertical-align: top;\n",
       "    }\n",
       "\n",
       "    .dataframe thead th {\n",
       "        text-align: right;\n",
       "    }\n",
       "</style>\n",
       "<table border=\"1\" class=\"dataframe\">\n",
       "  <thead>\n",
       "    <tr style=\"text-align: right;\">\n",
       "      <th></th>\n",
       "      <th>id</th>\n",
       "      <th>keyword</th>\n",
       "      <th>location</th>\n",
       "      <th>text</th>\n",
       "      <th>target</th>\n",
       "      <th>text_length</th>\n",
       "      <th>target_0</th>\n",
       "      <th>target_1</th>\n",
       "      <th>words</th>\n",
       "    </tr>\n",
       "  </thead>\n",
       "  <tbody>\n",
       "    <tr>\n",
       "      <th>0</th>\n",
       "      <td>1</td>\n",
       "      <td>NaN</td>\n",
       "      <td>NaN</td>\n",
       "      <td>Our Deeds are the Reason of this #earthquake May ALLAH Forgive us all</td>\n",
       "      <td>1</td>\n",
       "      <td>69</td>\n",
       "      <td>nan</td>\n",
       "      <td>69.00</td>\n",
       "      <td>13</td>\n",
       "    </tr>\n",
       "    <tr>\n",
       "      <th>1</th>\n",
       "      <td>4</td>\n",
       "      <td>NaN</td>\n",
       "      <td>NaN</td>\n",
       "      <td>Forest fire near La Ronge Sask Canada</td>\n",
       "      <td>1</td>\n",
       "      <td>37</td>\n",
       "      <td>nan</td>\n",
       "      <td>37.00</td>\n",
       "      <td>7</td>\n",
       "    </tr>\n",
       "    <tr>\n",
       "      <th>2</th>\n",
       "      <td>5</td>\n",
       "      <td>NaN</td>\n",
       "      <td>NaN</td>\n",
       "      <td>All residents asked to 'shelter in place' are being notified by officers No other evacuation or shelter in place orders are expected</td>\n",
       "      <td>1</td>\n",
       "      <td>132</td>\n",
       "      <td>nan</td>\n",
       "      <td>132.00</td>\n",
       "      <td>22</td>\n",
       "    </tr>\n",
       "    <tr>\n",
       "      <th>3</th>\n",
       "      <td>6</td>\n",
       "      <td>NaN</td>\n",
       "      <td>NaN</td>\n",
       "      <td>13000 people receive #wildfires evacuation orders in California</td>\n",
       "      <td>1</td>\n",
       "      <td>64</td>\n",
       "      <td>nan</td>\n",
       "      <td>64.00</td>\n",
       "      <td>9</td>\n",
       "    </tr>\n",
       "    <tr>\n",
       "      <th>4</th>\n",
       "      <td>7</td>\n",
       "      <td>NaN</td>\n",
       "      <td>NaN</td>\n",
       "      <td>Just got sent this photo from Ruby #Alaska as smoke from #wildfires pours into a school</td>\n",
       "      <td>1</td>\n",
       "      <td>88</td>\n",
       "      <td>nan</td>\n",
       "      <td>88.00</td>\n",
       "      <td>17</td>\n",
       "    </tr>\n",
       "  </tbody>\n",
       "</table>\n",
       "</div>"
      ],
      "text/plain": [
       "   id keyword location  \\\n",
       "0   1     NaN      NaN   \n",
       "1   4     NaN      NaN   \n",
       "2   5     NaN      NaN   \n",
       "3   6     NaN      NaN   \n",
       "4   7     NaN      NaN   \n",
       "\n",
       "                                                                                                                                   text  \\\n",
       "0                                                                 Our Deeds are the Reason of this #earthquake May ALLAH Forgive us all   \n",
       "1                                                                                                 Forest fire near La Ronge Sask Canada   \n",
       "2  All residents asked to 'shelter in place' are being notified by officers No other evacuation or shelter in place orders are expected   \n",
       "3                                                                      13000 people receive #wildfires evacuation orders in California    \n",
       "4                                              Just got sent this photo from Ruby #Alaska as smoke from #wildfires pours into a school    \n",
       "\n",
       "   target  text_length             target_0             target_1  words  \n",
       "0       1           69                  nan                69.00     13  \n",
       "1       1           37                  nan                37.00      7  \n",
       "2       1          132                  nan               132.00     22  \n",
       "3       1           64                  nan                64.00      9  \n",
       "4       1           88                  nan                88.00     17  "
      ]
     },
     "execution_count": 13,
     "metadata": {},
     "output_type": "execute_result"
    }
   ],
   "source": [
    "df['words'] = df['text'].apply(count_words)\n",
    "df.head()"
   ]
  },
  {
   "cell_type": "markdown",
   "metadata": {},
   "source": [
    "Repetimos las visualizaciones, ahora utilizando la cantidad de palabras de cada texto"
   ]
  },
  {
   "cell_type": "code",
   "execution_count": 14,
   "metadata": {},
   "outputs": [
    {
     "data": {
      "image/png": "[encoded data removed]",
      "text/plain": [
       "<Figure size 360x216 with 1 Axes>"
      ]
     },
     "metadata": {},
     "output_type": "display_data"
    }
   ],
   "source": [
    "g = sns.boxplot(y=\"target\", x=\"words\", data=df, palette=\"hls\", orient='h' )\n",
    "g.set_title(\"Boxplot del numero de palabras del texto\", fontsize=18)\n",
    "g.set_ylabel(\"Target\", fontsize=12)\n",
    "g.set_xlabel(\"Numero de palabras\", fontsize=12);"
   ]
  },
  {
   "cell_type": "markdown",
   "metadata": {},
   "source": [
    "Analizando el Boxplot tomando en cuenta la cantidad de palabras de cada texto, nuevamente se observa que los texto falsos tienen una mayor dispersion en los datos que los textos verdaderos. Tambien se observa un registro de mas de 50 palabras. "
   ]
  },
  {
   "cell_type": "code",
   "execution_count": 15,
   "metadata": {},
   "outputs": [
    {
     "data": {
      "text/plain": [
       "5738    Rescuers recover body of 37-year-old Calgary man from lake near Vulcan                                          ÂÃ_ http//tco/gAEhr9bHEk\n",
       "Name: text, dtype: object"
      ]
     },
     "execution_count": 15,
     "metadata": {},
     "output_type": "execute_result"
    }
   ],
   "source": [
    "\n",
    "df.loc[df['words'] > 50,'text']"
   ]
  },
  {
   "cell_type": "code",
   "execution_count": 16,
   "metadata": {},
   "outputs": [
    {
     "data": {
      "image/png": "[encoded data removed]",
      "text/plain": [
       "<Figure size 360x216 with 1 Axes>"
      ]
     },
     "metadata": {},
     "output_type": "display_data"
    }
   ],
   "source": [
    "\n",
    "g1 = df.words[df['target']== 1].plot.hist(bins=30, color= 'g', label='target 1')\n",
    "g0 = df.words[df['target']== 0].plot.hist(bins=30, color='r', label='target 0', alpha= 0.5)\n",
    "plt.legend()\n",
    "plt.xlabel('Cantidad de palabras del texto', fontsize=12)\n",
    "plt.title('Distribucion de la cantidad de palabras del texto segun el target ', fontsize=16);"
   ]
  },
  {
   "cell_type": "code",
   "execution_count": 17,
   "metadata": {},
   "outputs": [
    {
     "data": {
      "image/png": "[encoded data removed]",
      "text/plain": [
       "<Figure size 360x216 with 1 Axes>"
      ]
     },
     "metadata": {},
     "output_type": "display_data"
    }
   ],
   "source": [
    "g1 = sns.distplot(df.words[df['target']== 0], hist=False, color='r', label='target 0')\n",
    "g1 = sns.distplot(df.words[df['target']== 1], hist=False, color='g', label='target 1')\n",
    "plt.title('Funcion de distribucion del numero de palabras del texto segun el target ', fontsize=16);"
   ]
  },
  {
   "cell_type": "code",
   "execution_count": 18,
   "metadata": {},
   "outputs": [
    {
     "data": {
      "text/html": [
       "<div>\n",
       "<style scoped>\n",
       "    .dataframe tbody tr th:only-of-type {\n",
       "        vertical-align: middle;\n",
       "    }\n",
       "\n",
       "    .dataframe tbody tr th {\n",
       "        vertical-align: top;\n",
       "    }\n",
       "\n",
       "    .dataframe thead tr th {\n",
       "        text-align: left;\n",
       "    }\n",
       "\n",
       "    .dataframe thead tr:last-of-type th {\n",
       "        text-align: right;\n",
       "    }\n",
       "</style>\n",
       "<table border=\"1\" class=\"dataframe\">\n",
       "  <thead>\n",
       "    <tr>\n",
       "      <th></th>\n",
       "      <th colspan=\"4\" halign=\"left\">words</th>\n",
       "    </tr>\n",
       "    <tr>\n",
       "      <th></th>\n",
       "      <th>mean</th>\n",
       "      <th>median</th>\n",
       "      <th>min</th>\n",
       "      <th>max</th>\n",
       "    </tr>\n",
       "    <tr>\n",
       "      <th>target</th>\n",
       "      <th></th>\n",
       "      <th></th>\n",
       "      <th></th>\n",
       "      <th></th>\n",
       "    </tr>\n",
       "  </thead>\n",
       "  <tbody>\n",
       "    <tr>\n",
       "      <th>0</th>\n",
       "      <td>14.72</td>\n",
       "      <td>15</td>\n",
       "      <td>1</td>\n",
       "      <td>31</td>\n",
       "    </tr>\n",
       "    <tr>\n",
       "      <th>1</th>\n",
       "      <td>15.20</td>\n",
       "      <td>15</td>\n",
       "      <td>2</td>\n",
       "      <td>54</td>\n",
       "    </tr>\n",
       "  </tbody>\n",
       "</table>\n",
       "</div>"
      ],
      "text/plain": [
       "                      words               \n",
       "                       mean median min max\n",
       "target                                    \n",
       "0                     14.72     15   1  31\n",
       "1                     15.20     15   2  54"
      ]
     },
     "execution_count": 18,
     "metadata": {},
     "output_type": "execute_result"
    }
   ],
   "source": [
    "# analisis de algunos parametros estadisticos segun el target\n",
    "promedio = df.groupby(['target']).agg({'words':[ 'mean','median' ,'min', 'max']})\n",
    "promedio"
   ]
  },
  {
   "cell_type": "code",
   "execution_count": 19,
   "metadata": {},
   "outputs": [
    {
     "data": {
      "text/html": [
       "<div>\n",
       "<style scoped>\n",
       "    .dataframe tbody tr th:only-of-type {\n",
       "        vertical-align: middle;\n",
       "    }\n",
       "\n",
       "    .dataframe tbody tr th {\n",
       "        vertical-align: top;\n",
       "    }\n",
       "\n",
       "    .dataframe thead th {\n",
       "        text-align: right;\n",
       "    }\n",
       "</style>\n",
       "<table border=\"1\" class=\"dataframe\">\n",
       "  <thead>\n",
       "    <tr style=\"text-align: right;\">\n",
       "      <th></th>\n",
       "      <th>target</th>\n",
       "      <th>words_mean</th>\n",
       "      <th>words_median</th>\n",
       "      <th>words_min</th>\n",
       "      <th>words_max</th>\n",
       "    </tr>\n",
       "  </thead>\n",
       "  <tbody>\n",
       "    <tr>\n",
       "      <th>0</th>\n",
       "      <td>0</td>\n",
       "      <td>14.72</td>\n",
       "      <td>15</td>\n",
       "      <td>1</td>\n",
       "      <td>31</td>\n",
       "    </tr>\n",
       "    <tr>\n",
       "      <th>1</th>\n",
       "      <td>1</td>\n",
       "      <td>15.20</td>\n",
       "      <td>15</td>\n",
       "      <td>2</td>\n",
       "      <td>54</td>\n",
       "    </tr>\n",
       "  </tbody>\n",
       "</table>\n",
       "</div>"
      ],
      "text/plain": [
       "   target           words_mean  words_median  words_min  words_max\n",
       "0       0                14.72            15          1         31\n",
       "1       1                15.20            15          2         54"
      ]
     },
     "execution_count": 19,
     "metadata": {},
     "output_type": "execute_result"
    }
   ],
   "source": [
    "# reordenamos los indices para facilitar la lectura de los resultados\n",
    "nivel_0 = promedio.columns.get_level_values(0)\n",
    "nivel_1 = promedio.columns.get_level_values(1)\n",
    "promedio.columns = nivel_0 + '_' + nivel_1\n",
    "promedio.reset_index(inplace=True)\n",
    "promedio"
   ]
  },
  {
   "cell_type": "markdown",
   "metadata": {},
   "source": [
    "Observamos que los valores max y min pueden considerarse outliers y debemos analizarlos para evaluar si los eliminamos de nuestro df"
   ]
  },
  {
   "cell_type": "code",
   "execution_count": 20,
   "metadata": {},
   "outputs": [],
   "source": [
    "tweets_largos = df[df['words'] > 25]\n",
    "tweets_cortos = df[df['words'] < 5]"
   ]
  },
  {
   "cell_type": "code",
   "execution_count": 21,
   "metadata": {},
   "outputs": [
    {
     "data": {
      "text/html": [
       "<div>\n",
       "<style scoped>\n",
       "    .dataframe tbody tr th:only-of-type {\n",
       "        vertical-align: middle;\n",
       "    }\n",
       "\n",
       "    .dataframe tbody tr th {\n",
       "        vertical-align: top;\n",
       "    }\n",
       "\n",
       "    .dataframe thead th {\n",
       "        text-align: right;\n",
       "    }\n",
       "</style>\n",
       "<table border=\"1\" class=\"dataframe\">\n",
       "  <thead>\n",
       "    <tr style=\"text-align: right;\">\n",
       "      <th></th>\n",
       "      <th>id</th>\n",
       "      <th>keyword</th>\n",
       "      <th>location</th>\n",
       "      <th>text</th>\n",
       "      <th>target</th>\n",
       "      <th>text_length</th>\n",
       "      <th>target_0</th>\n",
       "      <th>target_1</th>\n",
       "      <th>words</th>\n",
       "    </tr>\n",
       "  </thead>\n",
       "  <tbody>\n",
       "    <tr>\n",
       "      <th>15</th>\n",
       "      <td>23</td>\n",
       "      <td>NaN</td>\n",
       "      <td>NaN</td>\n",
       "      <td>What's up man</td>\n",
       "      <td>0</td>\n",
       "      <td>13</td>\n",
       "      <td>13.00</td>\n",
       "      <td>nan</td>\n",
       "      <td>3</td>\n",
       "    </tr>\n",
       "    <tr>\n",
       "      <th>16</th>\n",
       "      <td>24</td>\n",
       "      <td>NaN</td>\n",
       "      <td>NaN</td>\n",
       "      <td>I love fruits</td>\n",
       "      <td>0</td>\n",
       "      <td>13</td>\n",
       "      <td>13.00</td>\n",
       "      <td>nan</td>\n",
       "      <td>3</td>\n",
       "    </tr>\n",
       "    <tr>\n",
       "      <th>17</th>\n",
       "      <td>25</td>\n",
       "      <td>NaN</td>\n",
       "      <td>NaN</td>\n",
       "      <td>Summer is lovely</td>\n",
       "      <td>0</td>\n",
       "      <td>16</td>\n",
       "      <td>16.00</td>\n",
       "      <td>nan</td>\n",
       "      <td>3</td>\n",
       "    </tr>\n",
       "    <tr>\n",
       "      <th>19</th>\n",
       "      <td>28</td>\n",
       "      <td>NaN</td>\n",
       "      <td>NaN</td>\n",
       "      <td>What a goooooooaaaaaal</td>\n",
       "      <td>0</td>\n",
       "      <td>22</td>\n",
       "      <td>22.00</td>\n",
       "      <td>nan</td>\n",
       "      <td>3</td>\n",
       "    </tr>\n",
       "    <tr>\n",
       "      <th>20</th>\n",
       "      <td>31</td>\n",
       "      <td>NaN</td>\n",
       "      <td>NaN</td>\n",
       "      <td>this is ridiculous</td>\n",
       "      <td>0</td>\n",
       "      <td>18</td>\n",
       "      <td>18.00</td>\n",
       "      <td>nan</td>\n",
       "      <td>3</td>\n",
       "    </tr>\n",
       "    <tr>\n",
       "      <th>...</th>\n",
       "      <td>...</td>\n",
       "      <td>...</td>\n",
       "      <td>...</td>\n",
       "      <td>...</td>\n",
       "      <td>...</td>\n",
       "      <td>...</td>\n",
       "      <td>...</td>\n",
       "      <td>...</td>\n",
       "      <td>...</td>\n",
       "    </tr>\n",
       "    <tr>\n",
       "      <th>7470</th>\n",
       "      <td>10687</td>\n",
       "      <td>wreck</td>\n",
       "      <td>NaN</td>\n",
       "      <td>I am a wreck</td>\n",
       "      <td>0</td>\n",
       "      <td>12</td>\n",
       "      <td>12.00</td>\n",
       "      <td>nan</td>\n",
       "      <td>4</td>\n",
       "    </tr>\n",
       "    <tr>\n",
       "      <th>7558</th>\n",
       "      <td>10805</td>\n",
       "      <td>wrecked</td>\n",
       "      <td>probably not home</td>\n",
       "      <td>coleslaw #wrecked http//tco/sijNBmCZIJ</td>\n",
       "      <td>0</td>\n",
       "      <td>38</td>\n",
       "      <td>38.00</td>\n",
       "      <td>nan</td>\n",
       "      <td>3</td>\n",
       "    </tr>\n",
       "    <tr>\n",
       "      <th>7567</th>\n",
       "      <td>10817</td>\n",
       "      <td>wrecked</td>\n",
       "      <td>At your back</td>\n",
       "      <td>Wrecked emotions</td>\n",
       "      <td>0</td>\n",
       "      <td>16</td>\n",
       "      <td>16.00</td>\n",
       "      <td>nan</td>\n",
       "      <td>2</td>\n",
       "    </tr>\n",
       "    <tr>\n",
       "      <th>7587</th>\n",
       "      <td>10841</td>\n",
       "      <td>NaN</td>\n",
       "      <td>NaN</td>\n",
       "      <td>Sirens everywhere</td>\n",
       "      <td>0</td>\n",
       "      <td>17</td>\n",
       "      <td>17.00</td>\n",
       "      <td>nan</td>\n",
       "      <td>2</td>\n",
       "    </tr>\n",
       "    <tr>\n",
       "      <th>7589</th>\n",
       "      <td>10843</td>\n",
       "      <td>NaN</td>\n",
       "      <td>NaN</td>\n",
       "      <td>Omg earthquake</td>\n",
       "      <td>1</td>\n",
       "      <td>14</td>\n",
       "      <td>nan</td>\n",
       "      <td>14.00</td>\n",
       "      <td>2</td>\n",
       "    </tr>\n",
       "  </tbody>\n",
       "</table>\n",
       "<p>235 rows × 9 columns</p>\n",
       "</div>"
      ],
      "text/plain": [
       "         id  keyword           location  \\\n",
       "15       23      NaN                NaN   \n",
       "16       24      NaN                NaN   \n",
       "17       25      NaN                NaN   \n",
       "19       28      NaN                NaN   \n",
       "20       31      NaN                NaN   \n",
       "...     ...      ...                ...   \n",
       "7470  10687    wreck                NaN   \n",
       "7558  10805  wrecked  probably not home   \n",
       "7567  10817  wrecked       At your back   \n",
       "7587  10841      NaN                NaN   \n",
       "7589  10843      NaN                NaN   \n",
       "\n",
       "                                        text  target  text_length  \\\n",
       "15                             What's up man       0           13   \n",
       "16                             I love fruits       0           13   \n",
       "17                          Summer is lovely       0           16   \n",
       "19                    What a goooooooaaaaaal       0           22   \n",
       "20                        this is ridiculous       0           18   \n",
       "...                                      ...     ...          ...   \n",
       "7470                            I am a wreck       0           12   \n",
       "7558  coleslaw #wrecked http//tco/sijNBmCZIJ       0           38   \n",
       "7567                        Wrecked emotions       0           16   \n",
       "7587                       Sirens everywhere       0           17   \n",
       "7589                          Omg earthquake       1           14   \n",
       "\n",
       "                 target_0             target_1  words  \n",
       "15                  13.00                  nan      3  \n",
       "16                  13.00                  nan      3  \n",
       "17                  16.00                  nan      3  \n",
       "19                  22.00                  nan      3  \n",
       "20                  18.00                  nan      3  \n",
       "...                   ...                  ...    ...  \n",
       "7470                12.00                  nan      4  \n",
       "7558                38.00                  nan      3  \n",
       "7567                16.00                  nan      2  \n",
       "7587                17.00                  nan      2  \n",
       "7589                  nan                14.00      2  \n",
       "\n",
       "[235 rows x 9 columns]"
      ]
     },
     "execution_count": 21,
     "metadata": {},
     "output_type": "execute_result"
    }
   ],
   "source": [
    "tweets_cortos"
   ]
  },
  {
   "cell_type": "code",
   "execution_count": 22,
   "metadata": {},
   "outputs": [
    {
     "data": {
      "text/html": [
       "<div>\n",
       "<style scoped>\n",
       "    .dataframe tbody tr th:only-of-type {\n",
       "        vertical-align: middle;\n",
       "    }\n",
       "\n",
       "    .dataframe tbody tr th {\n",
       "        vertical-align: top;\n",
       "    }\n",
       "\n",
       "    .dataframe thead th {\n",
       "        text-align: right;\n",
       "    }\n",
       "</style>\n",
       "<table border=\"1\" class=\"dataframe\">\n",
       "  <thead>\n",
       "    <tr style=\"text-align: right;\">\n",
       "      <th></th>\n",
       "      <th>id</th>\n",
       "      <th>keyword</th>\n",
       "      <th>location</th>\n",
       "      <th>text</th>\n",
       "      <th>target</th>\n",
       "      <th>text_length</th>\n",
       "      <th>target_0</th>\n",
       "      <th>target_1</th>\n",
       "      <th>words</th>\n",
       "    </tr>\n",
       "  </thead>\n",
       "  <tbody>\n",
       "    <tr>\n",
       "      <th>11</th>\n",
       "      <td>17</td>\n",
       "      <td>NaN</td>\n",
       "      <td>NaN</td>\n",
       "      <td>Haha South Tampa is getting flooded hah- WAIT A SECOND I LIVE IN SOUTH TAMPA WHAT AM I GONNA DO WHAT AM I GONNA DO FVCK #flooding</td>\n",
       "      <td>1</td>\n",
       "      <td>129</td>\n",
       "      <td>nan</td>\n",
       "      <td>129.00</td>\n",
       "      <td>27</td>\n",
       "    </tr>\n",
       "    <tr>\n",
       "      <th>49</th>\n",
       "      <td>71</td>\n",
       "      <td>ablaze</td>\n",
       "      <td>England.</td>\n",
       "      <td>First night with retainers in It's quite weird Better get used to it I have to wear them every single night for the next year at least</td>\n",
       "      <td>0</td>\n",
       "      <td>134</td>\n",
       "      <td>134.00</td>\n",
       "      <td>nan</td>\n",
       "      <td>27</td>\n",
       "    </tr>\n",
       "    <tr>\n",
       "      <th>67</th>\n",
       "      <td>96</td>\n",
       "      <td>accident</td>\n",
       "      <td>CLVLND</td>\n",
       "      <td>'I can't have kids cuz I got in a bicycle accident &amp;amp split my testicles it's impossible for me to have kids' MICHAEL YOU ARE THE FATHER</td>\n",
       "      <td>0</td>\n",
       "      <td>138</td>\n",
       "      <td>138.00</td>\n",
       "      <td>nan</td>\n",
       "      <td>27</td>\n",
       "    </tr>\n",
       "    <tr>\n",
       "      <th>80</th>\n",
       "      <td>117</td>\n",
       "      <td>accident</td>\n",
       "      <td>NaN</td>\n",
       "      <td>mom 'we didn't get home as fast as we wished' me 'why is that'mom 'there was an accident and some truck spilt mayonnaise all over</td>\n",
       "      <td>0</td>\n",
       "      <td>130</td>\n",
       "      <td>130.00</td>\n",
       "      <td>nan</td>\n",
       "      <td>26</td>\n",
       "    </tr>\n",
       "    <tr>\n",
       "      <th>95</th>\n",
       "      <td>137</td>\n",
       "      <td>accident</td>\n",
       "      <td>Charlotte</td>\n",
       "      <td>9 Mile backup on I-77 Southaccident blocking the Right 2 Lanes at Exit 31 Langtree Rdconsider NC 115 or NC 150 to NC 16 as alternate</td>\n",
       "      <td>1</td>\n",
       "      <td>132</td>\n",
       "      <td>nan</td>\n",
       "      <td>132.00</td>\n",
       "      <td>26</td>\n",
       "    </tr>\n",
       "    <tr>\n",
       "      <th>...</th>\n",
       "      <td>...</td>\n",
       "      <td>...</td>\n",
       "      <td>...</td>\n",
       "      <td>...</td>\n",
       "      <td>...</td>\n",
       "      <td>...</td>\n",
       "      <td>...</td>\n",
       "      <td>...</td>\n",
       "      <td>...</td>\n",
       "    </tr>\n",
       "    <tr>\n",
       "      <th>7450</th>\n",
       "      <td>10662</td>\n",
       "      <td>wounds</td>\n",
       "      <td>The American Wasteland (MV)</td>\n",
       "      <td>@FEVWarrior -in the Vault that could take a look at those wounds of yours if you'd like to go to one of these places first' Zarry has had-</td>\n",
       "      <td>0</td>\n",
       "      <td>138</td>\n",
       "      <td>138.00</td>\n",
       "      <td>nan</td>\n",
       "      <td>28</td>\n",
       "    </tr>\n",
       "    <tr>\n",
       "      <th>7492</th>\n",
       "      <td>10718</td>\n",
       "      <td>wreck</td>\n",
       "      <td>Arlington, TX</td>\n",
       "      <td>Got in a car wreck The car in front of me didn't put their blinker on - but it really does feel great outside so lol</td>\n",
       "      <td>0</td>\n",
       "      <td>116</td>\n",
       "      <td>116.00</td>\n",
       "      <td>nan</td>\n",
       "      <td>26</td>\n",
       "    </tr>\n",
       "    <tr>\n",
       "      <th>7499</th>\n",
       "      <td>10727</td>\n",
       "      <td>wreck</td>\n",
       "      <td>709?</td>\n",
       "      <td>I still need to finish the lover but I'm watching this other drama for 8 hours now and I'm an emotional wreck so the lover needs to wait</td>\n",
       "      <td>0</td>\n",
       "      <td>136</td>\n",
       "      <td>136.00</td>\n",
       "      <td>nan</td>\n",
       "      <td>28</td>\n",
       "    </tr>\n",
       "    <tr>\n",
       "      <th>7513</th>\n",
       "      <td>10746</td>\n",
       "      <td>wreckage</td>\n",
       "      <td>NaN</td>\n",
       "      <td>KUALA LUMPUR Reuters - A piece of a wing that washed up on an Indian Ocean island beach last week was part of the wreckage of Malaysian A</td>\n",
       "      <td>1</td>\n",
       "      <td>137</td>\n",
       "      <td>nan</td>\n",
       "      <td>137.00</td>\n",
       "      <td>28</td>\n",
       "    </tr>\n",
       "    <tr>\n",
       "      <th>7605</th>\n",
       "      <td>10864</td>\n",
       "      <td>NaN</td>\n",
       "      <td>NaN</td>\n",
       "      <td>on the flip side I'm at Walmart and there is a bomb and everyone had to evacuate so stay tuned if I blow up or not</td>\n",
       "      <td>1</td>\n",
       "      <td>114</td>\n",
       "      <td>nan</td>\n",
       "      <td>114.00</td>\n",
       "      <td>26</td>\n",
       "    </tr>\n",
       "  </tbody>\n",
       "</table>\n",
       "<p>234 rows × 9 columns</p>\n",
       "</div>"
      ],
      "text/plain": [
       "         id   keyword                     location  \\\n",
       "11       17       NaN                          NaN   \n",
       "49       71    ablaze                     England.   \n",
       "67       96  accident                       CLVLND   \n",
       "80      117  accident                          NaN   \n",
       "95      137  accident                    Charlotte   \n",
       "...     ...       ...                          ...   \n",
       "7450  10662    wounds  The American Wasteland (MV)   \n",
       "7492  10718     wreck                Arlington, TX   \n",
       "7499  10727     wreck                         709?   \n",
       "7513  10746  wreckage                          NaN   \n",
       "7605  10864       NaN                          NaN   \n",
       "\n",
       "                                                                                                                                            text  \\\n",
       "11             Haha South Tampa is getting flooded hah- WAIT A SECOND I LIVE IN SOUTH TAMPA WHAT AM I GONNA DO WHAT AM I GONNA DO FVCK #flooding   \n",
       "49        First night with retainers in It's quite weird Better get used to it I have to wear them every single night for the next year at least   \n",
       "67    'I can't have kids cuz I got in a bicycle accident &amp split my testicles it's impossible for me to have kids' MICHAEL YOU ARE THE FATHER   \n",
       "80            mom 'we didn't get home as fast as we wished' me 'why is that'mom 'there was an accident and some truck spilt mayonnaise all over    \n",
       "95          9 Mile backup on I-77 Southaccident blocking the Right 2 Lanes at Exit 31 Langtree Rdconsider NC 115 or NC 150 to NC 16 as alternate   \n",
       "...                                                                                                                                          ...   \n",
       "7450  @FEVWarrior -in the Vault that could take a look at those wounds of yours if you'd like to go to one of these places first' Zarry has had-   \n",
       "7492                        Got in a car wreck The car in front of me didn't put their blinker on - but it really does feel great outside so lol   \n",
       "7499    I still need to finish the lover but I'm watching this other drama for 8 hours now and I'm an emotional wreck so the lover needs to wait   \n",
       "7513   KUALA LUMPUR Reuters - A piece of a wing that washed up on an Indian Ocean island beach last week was part of the wreckage of Malaysian A   \n",
       "7605                          on the flip side I'm at Walmart and there is a bomb and everyone had to evacuate so stay tuned if I blow up or not   \n",
       "\n",
       "      target  text_length             target_0             target_1  words  \n",
       "11         1          129                  nan               129.00     27  \n",
       "49         0          134               134.00                  nan     27  \n",
       "67         0          138               138.00                  nan     27  \n",
       "80         0          130               130.00                  nan     26  \n",
       "95         1          132                  nan               132.00     26  \n",
       "...      ...          ...                  ...                  ...    ...  \n",
       "7450       0          138               138.00                  nan     28  \n",
       "7492       0          116               116.00                  nan     26  \n",
       "7499       0          136               136.00                  nan     28  \n",
       "7513       1          137                  nan               137.00     28  \n",
       "7605       1          114                  nan               114.00     26  \n",
       "\n",
       "[234 rows x 9 columns]"
      ]
     },
     "execution_count": 22,
     "metadata": {},
     "output_type": "execute_result"
    }
   ],
   "source": [
    "tweets_largos"
   ]
  },
  {
   "cell_type": "code",
   "execution_count": 23,
   "metadata": {},
   "outputs": [
    {
     "data": {
      "text/html": [
       "<div>\n",
       "<style scoped>\n",
       "    .dataframe tbody tr th:only-of-type {\n",
       "        vertical-align: middle;\n",
       "    }\n",
       "\n",
       "    .dataframe tbody tr th {\n",
       "        vertical-align: top;\n",
       "    }\n",
       "\n",
       "    .dataframe thead th {\n",
       "        text-align: right;\n",
       "    }\n",
       "</style>\n",
       "<table border=\"1\" class=\"dataframe\">\n",
       "  <thead>\n",
       "    <tr style=\"text-align: right;\">\n",
       "      <th></th>\n",
       "      <th></th>\n",
       "      <th>words</th>\n",
       "    </tr>\n",
       "    <tr>\n",
       "      <th>target</th>\n",
       "      <th></th>\n",
       "      <th></th>\n",
       "    </tr>\n",
       "  </thead>\n",
       "  <tbody>\n",
       "    <tr>\n",
       "      <th rowspan=\"6\" valign=\"top\">0</th>\n",
       "      <th>0.00</th>\n",
       "      <td>1.00</td>\n",
       "    </tr>\n",
       "    <tr>\n",
       "      <th>0.25</th>\n",
       "      <td>10.00</td>\n",
       "    </tr>\n",
       "    <tr>\n",
       "      <th>0.50</th>\n",
       "      <td>15.00</td>\n",
       "    </tr>\n",
       "    <tr>\n",
       "      <th>0.75</th>\n",
       "      <td>19.00</td>\n",
       "    </tr>\n",
       "    <tr>\n",
       "      <th>0.95</th>\n",
       "      <td>25.00</td>\n",
       "    </tr>\n",
       "    <tr>\n",
       "      <th>1.00</th>\n",
       "      <td>31.00</td>\n",
       "    </tr>\n",
       "    <tr>\n",
       "      <th rowspan=\"6\" valign=\"top\">1</th>\n",
       "      <th>0.00</th>\n",
       "      <td>2.00</td>\n",
       "    </tr>\n",
       "    <tr>\n",
       "      <th>0.25</th>\n",
       "      <td>11.00</td>\n",
       "    </tr>\n",
       "    <tr>\n",
       "      <th>0.50</th>\n",
       "      <td>15.00</td>\n",
       "    </tr>\n",
       "    <tr>\n",
       "      <th>0.75</th>\n",
       "      <td>19.00</td>\n",
       "    </tr>\n",
       "    <tr>\n",
       "      <th>0.95</th>\n",
       "      <td>23.00</td>\n",
       "    </tr>\n",
       "    <tr>\n",
       "      <th>1.00</th>\n",
       "      <td>54.00</td>\n",
       "    </tr>\n",
       "  </tbody>\n",
       "</table>\n",
       "</div>"
      ],
      "text/plain": [
       "                           words\n",
       "target                          \n",
       "0      0.00                 1.00\n",
       "       0.25                10.00\n",
       "       0.50                15.00\n",
       "       0.75                19.00\n",
       "       0.95                25.00\n",
       "       1.00                31.00\n",
       "1      0.00                 2.00\n",
       "       0.25                11.00\n",
       "       0.50                15.00\n",
       "       0.75                19.00\n",
       "       0.95                23.00\n",
       "       1.00                54.00"
      ]
     },
     "execution_count": 23,
     "metadata": {},
     "output_type": "execute_result"
    }
   ],
   "source": [
    "df.groupby('target')[['words']].quantile([0, 0.25, 0.5, 0.75, 0.95, 1])"
   ]
  },
  {
   "cell_type": "code",
   "execution_count": 24,
   "metadata": {},
   "outputs": [],
   "source": [
    "limpio = df[(df['words']> 5) & (df['words']<30)]"
   ]
  },
  {
   "cell_type": "code",
   "execution_count": 25,
   "metadata": {},
   "outputs": [
    {
     "name": "stdout",
     "output_type": "stream",
     "text": [
      "<class 'pandas.core.frame.DataFrame'>\n",
      "Int64Index: 7207 entries, 0 to 7612\n",
      "Data columns (total 9 columns):\n",
      "id             7207 non-null int64\n",
      "keyword        7163 non-null object\n",
      "location       4832 non-null object\n",
      "text           7207 non-null object\n",
      "target         7207 non-null int64\n",
      "text_length    7207 non-null int64\n",
      "target_0       4022 non-null float64\n",
      "target_1       3185 non-null float64\n",
      "words          7207 non-null int64\n",
      "dtypes: float64(2), int64(4), object(3)\n",
      "memory usage: 563.0+ KB\n"
     ]
    }
   ],
   "source": [
    "limpio.info()"
   ]
  },
  {
   "cell_type": "code",
   "execution_count": 36,
   "metadata": {},
   "outputs": [
    {
     "data": {
      "image/png": "[encoded data removed]",
      "text/plain": [
       "<Figure size 360x216 with 1 Axes>"
      ]
     },
     "metadata": {},
     "output_type": "display_data"
    }
   ],
   "source": [
    "\n",
    "g0 = limpio.words[df['target']== 0].plot.hist(bins=20, color='r', label='target 0')\n",
    "g1 = limpio.words[df['target']== 1].plot.hist(bins=20, color= 'g', label='target 1', alpha = 0.7)\n",
    "plt.legend()\n",
    "plt.xlabel('Cantidad de palabras del tweet', fontsize=12)\n",
    "plt.title('Distribucion de la cantidad de palabras del tweet segun el target ', fontsize=16);"
   ]
  },
  {
   "cell_type": "code",
   "execution_count": 27,
   "metadata": {},
   "outputs": [
    {
     "data": {
      "image/png": "[encoded data removed]",
      "text/plain": [
       "<Figure size 360x216 with 1 Axes>"
      ]
     },
     "metadata": {},
     "output_type": "display_data"
    }
   ],
   "source": [
    "g1 = sns.distplot(limpio.words[df['target']== 0], hist=False, color='r', label='target 0')\n",
    "g1 = sns.distplot(limpio.words[df['target']== 1], hist=False, color='g', label='target 1')\n",
    "plt.title('Funcion de distribucion del numero de palabras del tweet segun el target ', fontsize=16);"
   ]
  },
  {
   "cell_type": "code",
   "execution_count": 28,
   "metadata": {},
   "outputs": [
    {
     "data": {
      "image/png": "[encoded data removed]",
      "text/plain": [
       "<Figure size 360x216 with 1 Axes>"
      ]
     },
     "metadata": {},
     "output_type": "display_data"
    }
   ],
   "source": [
    "g = sns.boxplot(y=\"target\", x=\"words\", data=limpio, palette=\"hls\", orient='h' )\n",
    "g.set_title(\"Boxplot del numero de palabras del tweet\", fontsize=18)\n",
    "g.set_ylabel(\"Target\", fontsize=12)\n",
    "g.set_xlabel(\"Numero de palabras\", fontsize=12);"
   ]
  },
  {
   "cell_type": "code",
   "execution_count": 29,
   "metadata": {},
   "outputs": [
    {
     "data": {
      "text/plain": [
       "0    4022\n",
       "1    3185\n",
       "Name: target, dtype: int64"
      ]
     },
     "execution_count": 29,
     "metadata": {},
     "output_type": "execute_result"
    }
   ],
   "source": [
    "limpio['target'].value_counts(normalize=False)"
   ]
  },
  {
   "cell_type": "code",
   "execution_count": 30,
   "metadata": {},
   "outputs": [
    {
     "data": {
      "text/plain": [
       "0    4342\n",
       "1    3271\n",
       "Name: target, dtype: int64"
      ]
     },
     "execution_count": 30,
     "metadata": {},
     "output_type": "execute_result"
    }
   ],
   "source": [
    "df['target'].value_counts(normalize=False)"
   ]
  },
  {
   "cell_type": "code",
   "execution_count": null,
   "metadata": {},
   "outputs": [],
   "source": []
  },
  {
   "cell_type": "code",
   "execution_count": null,
   "metadata": {},
   "outputs": [],
   "source": []
  },
  {
   "cell_type": "code",
   "execution_count": null,
   "metadata": {},
   "outputs": [],
   "source": []
  },
  {
   "cell_type": "code",
   "execution_count": null,
   "metadata": {},
   "outputs": [],
   "source": []
  },
  {
   "cell_type": "code",
   "execution_count": null,
   "metadata": {},
   "outputs": [],
   "source": []
  },
  {
   "cell_type": "code",
   "execution_count": null,
   "metadata": {},
   "outputs": [],
   "source": []
  }
 ],
 "metadata": {
  "kernelspec": {
   "display_name": "Python 3",
   "language": "python",
   "name": "python3"
  },
  "language_info": {
   "codemirror_mode": {
    "name": "ipython",
    "version": 3
   },
   "file_extension": ".py",
   "mimetype": "text/x-python",
   "name": "python",
   "nbconvert_exporter": "python",
   "pygments_lexer": "ipython3",
   "version": "3.7.7"
  }
 },
 "nbformat": 4,
 "nbformat_minor": 2
}
